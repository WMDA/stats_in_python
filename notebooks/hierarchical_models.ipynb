{
 "cells": [
  {
   "cell_type": "markdown",
   "metadata": {},
   "source": [
    "# Hierarchical Regression in Python\n",
    "\n",
    "This is a walkthrough of how to do hiearchial models in python, based on the blog post from the university of Virgina (https://data.library.virginia.edu/hierarchical-linear-regression/). This is **not** a notebook about the bayseian modelling technique. I was getting annoyed that nothing was done in Python!!  \n",
    "\n",
    "\n",
    "## What is Hierarchical Regression Modelling?\n",
    "\n",
    "Hierarchical Regression Modelling is a technique used to examine if a covariate of interest is a statistically significant explainer of variance in the dependent variable, after accounting for other variables. This can tell us if a covariate is an important predictor of the dependent variable. \n",
    "\n",
    "### Ok so how do I do it?\n",
    "\n",
    "**Before we continue** covariates must ***only*** be added to models if there is sufficient a priori reason to include them, no p-hacking!! \n",
    "\n",
    "Hierarchical Regression Modelling is done by building models of more complexity by adding in more covariates. What we are interested is does a covariate of interest statistically signficiantly explain variation in the dependent variable.\n",
    "\n",
    "So conceptually we:\n",
    "\n",
    "1. Build sequential regression models adding more covariates\n",
    "2. Run ANOVAs to get the total $SS$ (sum of squares)\n",
    "3. Compare the total $SS$ between models and find the corresponding F statistic and P values"
   ]
  },
  {
   "cell_type": "markdown",
   "metadata": {},
   "source": [
    "## Example in python.\n",
    "\n",
    "In this example we will examine the relationship between happiness and social interaction. We know that number of friends in addition to age and gender is a predictor of happiness. However, we are interested in if the number of pets is an import predictor of happiness. \n",
    "\n",
    "Therefore our hypotheisis is that pets are an important predictor of happiness. \n",
    "\n",
    "To test this out first we import the libaries needed. I have chosen to use statsmodels.formula.api ols as its syntax is the most similar to R programming language (*for people who are more familiar with R*)"
   ]
  },
  {
   "cell_type": "code",
   "execution_count": 4,
   "metadata": {},
   "outputs": [],
   "source": [
    "import pandas as pd \n",
    "import statsmodels.api as sm\n",
    "from statsmodels.formula.api import ols"
   ]
  },
  {
   "cell_type": "markdown",
   "metadata": {},
   "source": [
    "Next we use pandas to import the dataset. It is also good practice to explore the dataset as well which we will do."
   ]
  },
  {
   "cell_type": "code",
   "execution_count": 5,
   "metadata": {},
   "outputs": [
    {
     "data": {
      "text/plain": [
       "(100, 5)"
      ]
     },
     "execution_count": 5,
     "metadata": {},
     "output_type": "execute_result"
    }
   ],
   "source": [
    "df = pd.read_csv('http://static.lib.virginia.edu/statlab/materials/data/hierarchicalRegressionData.csv')\n",
    "df.shape"
   ]
  },
  {
   "cell_type": "code",
   "execution_count": 6,
   "metadata": {},
   "outputs": [
    {
     "data": {
      "text/plain": [
       "Index(['happiness', 'age', 'gender', 'friends', 'pets'], dtype='object')"
      ]
     },
     "execution_count": 6,
     "metadata": {},
     "output_type": "execute_result"
    }
   ],
   "source": [
    "df.columns"
   ]
  },
  {
   "cell_type": "code",
   "execution_count": 7,
   "metadata": {},
   "outputs": [
    {
     "data": {
      "text/plain": [
       "happiness     int64\n",
       "age           int64\n",
       "gender       object\n",
       "friends       int64\n",
       "pets          int64\n",
       "dtype: object"
      ]
     },
     "execution_count": 7,
     "metadata": {},
     "output_type": "execute_result"
    }
   ],
   "source": [
    "df.dtypes"
   ]
  },
  {
   "cell_type": "code",
   "execution_count": 8,
   "metadata": {},
   "outputs": [
    {
     "data": {
      "text/html": [
       "<div>\n",
       "<style scoped>\n",
       "    .dataframe tbody tr th:only-of-type {\n",
       "        vertical-align: middle;\n",
       "    }\n",
       "\n",
       "    .dataframe tbody tr th {\n",
       "        vertical-align: top;\n",
       "    }\n",
       "\n",
       "    .dataframe thead th {\n",
       "        text-align: right;\n",
       "    }\n",
       "</style>\n",
       "<table border=\"1\" class=\"dataframe\">\n",
       "  <thead>\n",
       "    <tr style=\"text-align: right;\">\n",
       "      <th></th>\n",
       "      <th>happiness</th>\n",
       "      <th>age</th>\n",
       "      <th>gender</th>\n",
       "      <th>friends</th>\n",
       "      <th>pets</th>\n",
       "    </tr>\n",
       "  </thead>\n",
       "  <tbody>\n",
       "    <tr>\n",
       "      <th>0</th>\n",
       "      <td>5</td>\n",
       "      <td>24</td>\n",
       "      <td>Male</td>\n",
       "      <td>12</td>\n",
       "      <td>3</td>\n",
       "    </tr>\n",
       "    <tr>\n",
       "      <th>1</th>\n",
       "      <td>5</td>\n",
       "      <td>28</td>\n",
       "      <td>Male</td>\n",
       "      <td>8</td>\n",
       "      <td>1</td>\n",
       "    </tr>\n",
       "    <tr>\n",
       "      <th>2</th>\n",
       "      <td>6</td>\n",
       "      <td>25</td>\n",
       "      <td>Female</td>\n",
       "      <td>6</td>\n",
       "      <td>0</td>\n",
       "    </tr>\n",
       "    <tr>\n",
       "      <th>3</th>\n",
       "      <td>4</td>\n",
       "      <td>26</td>\n",
       "      <td>Male</td>\n",
       "      <td>4</td>\n",
       "      <td>2</td>\n",
       "    </tr>\n",
       "    <tr>\n",
       "      <th>4</th>\n",
       "      <td>3</td>\n",
       "      <td>20</td>\n",
       "      <td>Female</td>\n",
       "      <td>8</td>\n",
       "      <td>0</td>\n",
       "    </tr>\n",
       "  </tbody>\n",
       "</table>\n",
       "</div>"
      ],
      "text/plain": [
       "   happiness  age  gender  friends  pets\n",
       "0          5   24    Male       12     3\n",
       "1          5   28    Male        8     1\n",
       "2          6   25  Female        6     0\n",
       "3          4   26    Male        4     2\n",
       "4          3   20  Female        8     0"
      ]
     },
     "execution_count": 8,
     "metadata": {},
     "output_type": "execute_result"
    }
   ],
   "source": [
    "df.head()"
   ]
  },
  {
   "cell_type": "markdown",
   "metadata": {},
   "source": [
    "We should also check if there are null values in the dataframe"
   ]
  },
  {
   "cell_type": "code",
   "execution_count": 9,
   "metadata": {},
   "outputs": [
    {
     "data": {
      "text/plain": [
       "False"
      ]
     },
     "execution_count": 9,
     "metadata": {},
     "output_type": "execute_result"
    }
   ],
   "source": [
    "df.isnull().values.any()"
   ]
  },
  {
   "cell_type": "markdown",
   "metadata": {},
   "source": [
    "After examining the data we can build our linear regression models. The first model will just examine happiness to get the Total SS, we will then build a model with age and gender, then a third one with friends and finally pets."
   ]
  },
  {
   "cell_type": "code",
   "execution_count": 10,
   "metadata": {},
   "outputs": [],
   "source": [
    "m0=ols('happiness ~ 1', data=df).fit() \n",
    "\n",
    "#add in age and gender\n",
    "m1=ols('happiness ~ age + gender', data=df).fit() \n",
    "\n",
    "#add in friends\n",
    "m2=ols('happiness ~ age + gender + friends', data=df).fit() \n",
    "\n",
    "#Now added in pets which we hypotheses is an important predictor \n",
    "m3=ols('happiness ~ age + gender + friends + pets', data=df).fit()"
   ]
  },
  {
   "cell_type": "markdown",
   "metadata": {},
   "source": [
    "After building our models we run anovas to compute the total Sum of Sqaures"
   ]
  },
  {
   "cell_type": "code",
   "execution_count": 11,
   "metadata": {},
   "outputs": [
    {
     "data": {
      "text/html": [
       "<div>\n",
       "<style scoped>\n",
       "    .dataframe tbody tr th:only-of-type {\n",
       "        vertical-align: middle;\n",
       "    }\n",
       "\n",
       "    .dataframe tbody tr th {\n",
       "        vertical-align: top;\n",
       "    }\n",
       "\n",
       "    .dataframe thead th {\n",
       "        text-align: right;\n",
       "    }\n",
       "</style>\n",
       "<table border=\"1\" class=\"dataframe\">\n",
       "  <thead>\n",
       "    <tr style=\"text-align: right;\">\n",
       "      <th></th>\n",
       "      <th>df</th>\n",
       "      <th>sum_sq</th>\n",
       "      <th>mean_sq</th>\n",
       "      <th>F</th>\n",
       "      <th>PR(&gt;F)</th>\n",
       "    </tr>\n",
       "  </thead>\n",
       "  <tbody>\n",
       "    <tr>\n",
       "      <th>Residual</th>\n",
       "      <td>99.0</td>\n",
       "      <td>240.84</td>\n",
       "      <td>2.432727</td>\n",
       "      <td>NaN</td>\n",
       "      <td>NaN</td>\n",
       "    </tr>\n",
       "  </tbody>\n",
       "</table>\n",
       "</div>"
      ],
      "text/plain": [
       "            df  sum_sq   mean_sq   F  PR(>F)\n",
       "Residual  99.0  240.84  2.432727 NaN     NaN"
      ]
     },
     "execution_count": 11,
     "metadata": {},
     "output_type": "execute_result"
    }
   ],
   "source": [
    "res_m0=sm.stats.anova_lm(m0)\n",
    "res_m0"
   ]
  },
  {
   "cell_type": "code",
   "execution_count": 12,
   "metadata": {},
   "outputs": [
    {
     "data": {
      "text/html": [
       "<div>\n",
       "<style scoped>\n",
       "    .dataframe tbody tr th:only-of-type {\n",
       "        vertical-align: middle;\n",
       "    }\n",
       "\n",
       "    .dataframe tbody tr th {\n",
       "        vertical-align: top;\n",
       "    }\n",
       "\n",
       "    .dataframe thead th {\n",
       "        text-align: right;\n",
       "    }\n",
       "</style>\n",
       "<table border=\"1\" class=\"dataframe\">\n",
       "  <thead>\n",
       "    <tr style=\"text-align: right;\">\n",
       "      <th></th>\n",
       "      <th>df</th>\n",
       "      <th>sum_sq</th>\n",
       "      <th>mean_sq</th>\n",
       "      <th>F</th>\n",
       "      <th>PR(&gt;F)</th>\n",
       "    </tr>\n",
       "  </thead>\n",
       "  <tbody>\n",
       "    <tr>\n",
       "      <th>gender</th>\n",
       "      <td>1.0</td>\n",
       "      <td>0.363329</td>\n",
       "      <td>0.363329</td>\n",
       "      <td>0.150633</td>\n",
       "      <td>0.698781</td>\n",
       "    </tr>\n",
       "    <tr>\n",
       "      <th>age</th>\n",
       "      <td>1.0</td>\n",
       "      <td>6.511470</td>\n",
       "      <td>6.511470</td>\n",
       "      <td>2.699601</td>\n",
       "      <td>0.103611</td>\n",
       "    </tr>\n",
       "    <tr>\n",
       "      <th>Residual</th>\n",
       "      <td>97.0</td>\n",
       "      <td>233.965200</td>\n",
       "      <td>2.412012</td>\n",
       "      <td>NaN</td>\n",
       "      <td>NaN</td>\n",
       "    </tr>\n",
       "  </tbody>\n",
       "</table>\n",
       "</div>"
      ],
      "text/plain": [
       "            df      sum_sq   mean_sq         F    PR(>F)\n",
       "gender     1.0    0.363329  0.363329  0.150633  0.698781\n",
       "age        1.0    6.511470  6.511470  2.699601  0.103611\n",
       "Residual  97.0  233.965200  2.412012       NaN       NaN"
      ]
     },
     "execution_count": 12,
     "metadata": {},
     "output_type": "execute_result"
    }
   ],
   "source": [
    "res_m1=sm.stats.anova_lm(m1)\n",
    "res_m1"
   ]
  },
  {
   "cell_type": "code",
   "execution_count": 13,
   "metadata": {},
   "outputs": [
    {
     "data": {
      "text/html": [
       "<div>\n",
       "<style scoped>\n",
       "    .dataframe tbody tr th:only-of-type {\n",
       "        vertical-align: middle;\n",
       "    }\n",
       "\n",
       "    .dataframe tbody tr th {\n",
       "        vertical-align: top;\n",
       "    }\n",
       "\n",
       "    .dataframe thead th {\n",
       "        text-align: right;\n",
       "    }\n",
       "</style>\n",
       "<table border=\"1\" class=\"dataframe\">\n",
       "  <thead>\n",
       "    <tr style=\"text-align: right;\">\n",
       "      <th></th>\n",
       "      <th>df</th>\n",
       "      <th>sum_sq</th>\n",
       "      <th>mean_sq</th>\n",
       "      <th>F</th>\n",
       "      <th>PR(&gt;F)</th>\n",
       "    </tr>\n",
       "  </thead>\n",
       "  <tbody>\n",
       "    <tr>\n",
       "      <th>gender</th>\n",
       "      <td>1.0</td>\n",
       "      <td>0.363329</td>\n",
       "      <td>0.363329</td>\n",
       "      <td>0.166673</td>\n",
       "      <td>0.683995</td>\n",
       "    </tr>\n",
       "    <tr>\n",
       "      <th>age</th>\n",
       "      <td>1.0</td>\n",
       "      <td>6.511470</td>\n",
       "      <td>6.511470</td>\n",
       "      <td>2.987062</td>\n",
       "      <td>0.087147</td>\n",
       "    </tr>\n",
       "    <tr>\n",
       "      <th>friends</th>\n",
       "      <td>1.0</td>\n",
       "      <td>24.695651</td>\n",
       "      <td>24.695651</td>\n",
       "      <td>11.328846</td>\n",
       "      <td>0.001099</td>\n",
       "    </tr>\n",
       "    <tr>\n",
       "      <th>Residual</th>\n",
       "      <td>96.0</td>\n",
       "      <td>209.269549</td>\n",
       "      <td>2.179891</td>\n",
       "      <td>NaN</td>\n",
       "      <td>NaN</td>\n",
       "    </tr>\n",
       "  </tbody>\n",
       "</table>\n",
       "</div>"
      ],
      "text/plain": [
       "            df      sum_sq    mean_sq          F    PR(>F)\n",
       "gender     1.0    0.363329   0.363329   0.166673  0.683995\n",
       "age        1.0    6.511470   6.511470   2.987062  0.087147\n",
       "friends    1.0   24.695651  24.695651  11.328846  0.001099\n",
       "Residual  96.0  209.269549   2.179891        NaN       NaN"
      ]
     },
     "execution_count": 13,
     "metadata": {},
     "output_type": "execute_result"
    }
   ],
   "source": [
    "res_m2=sm.stats.anova_lm(m2)\n",
    "res_m2"
   ]
  },
  {
   "cell_type": "code",
   "execution_count": 14,
   "metadata": {},
   "outputs": [
    {
     "data": {
      "text/html": [
       "<div>\n",
       "<style scoped>\n",
       "    .dataframe tbody tr th:only-of-type {\n",
       "        vertical-align: middle;\n",
       "    }\n",
       "\n",
       "    .dataframe tbody tr th {\n",
       "        vertical-align: top;\n",
       "    }\n",
       "\n",
       "    .dataframe thead th {\n",
       "        text-align: right;\n",
       "    }\n",
       "</style>\n",
       "<table border=\"1\" class=\"dataframe\">\n",
       "  <thead>\n",
       "    <tr style=\"text-align: right;\">\n",
       "      <th></th>\n",
       "      <th>df</th>\n",
       "      <th>sum_sq</th>\n",
       "      <th>mean_sq</th>\n",
       "      <th>F</th>\n",
       "      <th>PR(&gt;F)</th>\n",
       "    </tr>\n",
       "  </thead>\n",
       "  <tbody>\n",
       "    <tr>\n",
       "      <th>gender</th>\n",
       "      <td>1.0</td>\n",
       "      <td>0.363329</td>\n",
       "      <td>0.363329</td>\n",
       "      <td>0.178449</td>\n",
       "      <td>0.673664</td>\n",
       "    </tr>\n",
       "    <tr>\n",
       "      <th>age</th>\n",
       "      <td>1.0</td>\n",
       "      <td>6.511470</td>\n",
       "      <td>6.511470</td>\n",
       "      <td>3.198112</td>\n",
       "      <td>0.076911</td>\n",
       "    </tr>\n",
       "    <tr>\n",
       "      <th>friends</th>\n",
       "      <td>1.0</td>\n",
       "      <td>24.695651</td>\n",
       "      <td>24.695651</td>\n",
       "      <td>12.129281</td>\n",
       "      <td>0.000752</td>\n",
       "    </tr>\n",
       "    <tr>\n",
       "      <th>pets</th>\n",
       "      <td>1.0</td>\n",
       "      <td>15.846149</td>\n",
       "      <td>15.846149</td>\n",
       "      <td>7.782844</td>\n",
       "      <td>0.006374</td>\n",
       "    </tr>\n",
       "    <tr>\n",
       "      <th>Residual</th>\n",
       "      <td>95.0</td>\n",
       "      <td>193.423400</td>\n",
       "      <td>2.036036</td>\n",
       "      <td>NaN</td>\n",
       "      <td>NaN</td>\n",
       "    </tr>\n",
       "  </tbody>\n",
       "</table>\n",
       "</div>"
      ],
      "text/plain": [
       "            df      sum_sq    mean_sq          F    PR(>F)\n",
       "gender     1.0    0.363329   0.363329   0.178449  0.673664\n",
       "age        1.0    6.511470   6.511470   3.198112  0.076911\n",
       "friends    1.0   24.695651  24.695651  12.129281  0.000752\n",
       "pets       1.0   15.846149  15.846149   7.782844  0.006374\n",
       "Residual  95.0  193.423400   2.036036        NaN       NaN"
      ]
     },
     "execution_count": 14,
     "metadata": {},
     "output_type": "execute_result"
    }
   ],
   "source": [
    "res_m3=sm.stats.anova_lm(m3)\n",
    "res_m3"
   ]
  },
  {
   "cell_type": "markdown",
   "metadata": {},
   "source": [
    "As you can see as we add more variables the total sum squares decreases. We can also see that pets accounts for an additional 15.85 of the $SS$ and is a statistical significantly (*p=0.006374*) explainer of variation in happiness\n",
    "\n",
    "**REMEMBER** that the $R^2$ will always increase when more variables are added. Thats why we need an f statistic and P value rather than relying on the increase in $R^2$ "
   ]
  },
  {
   "cell_type": "markdown",
   "metadata": {},
   "source": [
    "Lets take a look at the model with pets in it"
   ]
  },
  {
   "cell_type": "code",
   "execution_count": 15,
   "metadata": {},
   "outputs": [
    {
     "data": {
      "text/html": [
       "<table class=\"simpletable\">\n",
       "<caption>OLS Regression Results</caption>\n",
       "<tr>\n",
       "  <th>Dep. Variable:</th>        <td>happiness</td>    <th>  R-squared:         </th> <td>   0.197</td>\n",
       "</tr>\n",
       "<tr>\n",
       "  <th>Model:</th>                   <td>OLS</td>       <th>  Adj. R-squared:    </th> <td>   0.163</td>\n",
       "</tr>\n",
       "<tr>\n",
       "  <th>Method:</th>             <td>Least Squares</td>  <th>  F-statistic:       </th> <td>   5.822</td>\n",
       "</tr>\n",
       "<tr>\n",
       "  <th>Date:</th>             <td>Thu, 17 Dec 2020</td> <th>  Prob (F-statistic):</th> <td>0.000311</td>\n",
       "</tr>\n",
       "<tr>\n",
       "  <th>Time:</th>                 <td>11:47:35</td>     <th>  Log-Likelihood:    </th> <td> -174.88</td>\n",
       "</tr>\n",
       "<tr>\n",
       "  <th>No. Observations:</th>      <td>   100</td>      <th>  AIC:               </th> <td>   359.8</td>\n",
       "</tr>\n",
       "<tr>\n",
       "  <th>Df Residuals:</th>          <td>    95</td>      <th>  BIC:               </th> <td>   372.8</td>\n",
       "</tr>\n",
       "<tr>\n",
       "  <th>Df Model:</th>              <td>     4</td>      <th>                     </th>     <td> </td>   \n",
       "</tr>\n",
       "<tr>\n",
       "  <th>Covariance Type:</th>      <td>nonrobust</td>    <th>                     </th>     <td> </td>   \n",
       "</tr>\n",
       "</table>\n",
       "<table class=\"simpletable\">\n",
       "<tr>\n",
       "         <td></td>           <th>coef</th>     <th>std err</th>      <th>t</th>      <th>P>|t|</th>  <th>[0.025</th>    <th>0.975]</th>  \n",
       "</tr>\n",
       "<tr>\n",
       "  <th>Intercept</th>      <td>    5.7854</td> <td>    1.903</td> <td>    3.041</td> <td> 0.003</td> <td>    2.008</td> <td>    9.563</td>\n",
       "</tr>\n",
       "<tr>\n",
       "  <th>gender[T.Male]</th> <td>   -0.1427</td> <td>    0.312</td> <td>   -0.458</td> <td> 0.648</td> <td>   -0.761</td> <td>    0.476</td>\n",
       "</tr>\n",
       "<tr>\n",
       "  <th>age</th>            <td>   -0.1115</td> <td>    0.073</td> <td>   -1.525</td> <td> 0.131</td> <td>   -0.257</td> <td>    0.034</td>\n",
       "</tr>\n",
       "<tr>\n",
       "  <th>friends</th>        <td>    0.1713</td> <td>    0.055</td> <td>    3.120</td> <td> 0.002</td> <td>    0.062</td> <td>    0.280</td>\n",
       "</tr>\n",
       "<tr>\n",
       "  <th>pets</th>           <td>    0.3639</td> <td>    0.130</td> <td>    2.790</td> <td> 0.006</td> <td>    0.105</td> <td>    0.623</td>\n",
       "</tr>\n",
       "</table>\n",
       "<table class=\"simpletable\">\n",
       "<tr>\n",
       "  <th>Omnibus:</th>       <td> 0.717</td> <th>  Durbin-Watson:     </th> <td>   1.848</td>\n",
       "</tr>\n",
       "<tr>\n",
       "  <th>Prob(Omnibus):</th> <td> 0.699</td> <th>  Jarque-Bera (JB):  </th> <td>   0.832</td>\n",
       "</tr>\n",
       "<tr>\n",
       "  <th>Skew:</th>          <td> 0.122</td> <th>  Prob(JB):          </th> <td>   0.660</td>\n",
       "</tr>\n",
       "<tr>\n",
       "  <th>Kurtosis:</th>      <td> 2.625</td> <th>  Cond. No.          </th> <td>    353.</td>\n",
       "</tr>\n",
       "</table><br/><br/>Notes:<br/>[1] Standard Errors assume that the covariance matrix of the errors is correctly specified."
      ],
      "text/plain": [
       "<class 'statsmodels.iolib.summary.Summary'>\n",
       "\"\"\"\n",
       "                            OLS Regression Results                            \n",
       "==============================================================================\n",
       "Dep. Variable:              happiness   R-squared:                       0.197\n",
       "Model:                            OLS   Adj. R-squared:                  0.163\n",
       "Method:                 Least Squares   F-statistic:                     5.822\n",
       "Date:                Thu, 17 Dec 2020   Prob (F-statistic):           0.000311\n",
       "Time:                        11:47:35   Log-Likelihood:                -174.88\n",
       "No. Observations:                 100   AIC:                             359.8\n",
       "Df Residuals:                      95   BIC:                             372.8\n",
       "Df Model:                           4                                         \n",
       "Covariance Type:            nonrobust                                         \n",
       "==================================================================================\n",
       "                     coef    std err          t      P>|t|      [0.025      0.975]\n",
       "----------------------------------------------------------------------------------\n",
       "Intercept          5.7854      1.903      3.041      0.003       2.008       9.563\n",
       "gender[T.Male]    -0.1427      0.312     -0.458      0.648      -0.761       0.476\n",
       "age               -0.1115      0.073     -1.525      0.131      -0.257       0.034\n",
       "friends            0.1713      0.055      3.120      0.002       0.062       0.280\n",
       "pets               0.3639      0.130      2.790      0.006       0.105       0.623\n",
       "==============================================================================\n",
       "Omnibus:                        0.717   Durbin-Watson:                   1.848\n",
       "Prob(Omnibus):                  0.699   Jarque-Bera (JB):                0.832\n",
       "Skew:                           0.122   Prob(JB):                        0.660\n",
       "Kurtosis:                       2.625   Cond. No.                         353.\n",
       "==============================================================================\n",
       "\n",
       "Notes:\n",
       "[1] Standard Errors assume that the covariance matrix of the errors is correctly specified.\n",
       "\"\"\""
      ]
     },
     "execution_count": 15,
     "metadata": {},
     "output_type": "execute_result"
    }
   ],
   "source": [
    "m3.summary()"
   ]
  },
  {
   "cell_type": "markdown",
   "metadata": {},
   "source": [
    "We can see from this regression model that pets have a positive association (I am from a psychology background!) to happiness, that when someone has (0.36) pets there happiness increases by one point.\n",
    "\n",
    "\n",
    "We can also work out effect size for the pets now by using Cohen's $F^2$\n",
    "\n",
    "$F^2 = (R^2 included - R^2 excluded) \\div (1-R^2 included)$\n",
    "\n",
    "So first lets build a function to calculate the $F^2$:"
   ]
  },
  {
   "cell_type": "code",
   "execution_count": 16,
   "metadata": {},
   "outputs": [],
   "source": [
    "def cohensf(r2_included,r2_excluded):\n",
    "    f= (r2_included-r2_excluded)/(1-r2_included)\n",
    "    return f"
   ]
  },
  {
   "cell_type": "markdown",
   "metadata": {},
   "source": [
    "Now lets get the r2 from the two models with pets and without pets and assign them to a variable"
   ]
  },
  {
   "cell_type": "code",
   "execution_count": 27,
   "metadata": {},
   "outputs": [
    {
     "name": "stdout",
     "output_type": "stream",
     "text": [
      "R2 with pets = 0.19688008516445088 \n",
      "R2 without pets = 0.13108474715995277\n"
     ]
    }
   ],
   "source": [
    "r2_included=m3.rsquared\n",
    "r2_excluded=m2.rsquared\n",
    "\n",
    "print(f'R2 with pets = {r2_included} \\nR2 without pets = {r2_excluded}')"
   ]
  },
  {
   "cell_type": "markdown",
   "metadata": {},
   "source": [
    "Finally lets get our Cohen's $F^2$:"
   ]
  },
  {
   "cell_type": "code",
   "execution_count": 31,
   "metadata": {},
   "outputs": [
    {
     "name": "stdout",
     "output_type": "stream",
     "text": [
      "f2 is 0.0819246749944816\n"
     ]
    }
   ],
   "source": [
    "f2= cohensf(r2_included,r2_excluded)\n",
    "print(f'f2 is {f2}')"
   ]
  },
  {
   "cell_type": "markdown",
   "metadata": {},
   "source": [
    "This is a tiny effect size and shows that pets are a statistically significant explainer of the variation in happiness, however the amount of variation it explains isn't great."
   ]
  }
 ],
 "metadata": {
  "kernelspec": {
   "display_name": "Python 3 (ipykernel)",
   "language": "python",
   "name": "python3"
  },
  "language_info": {
   "codemirror_mode": {
    "name": "ipython",
    "version": 3
   },
   "file_extension": ".py",
   "mimetype": "text/x-python",
   "name": "python",
   "nbconvert_exporter": "python",
   "pygments_lexer": "ipython3",
   "version": "3.9.7"
  }
 },
 "nbformat": 4,
 "nbformat_minor": 4
}
