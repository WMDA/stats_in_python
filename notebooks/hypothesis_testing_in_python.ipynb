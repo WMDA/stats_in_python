{
 "cells": [
  {
   "attachments": {},
   "cell_type": "markdown",
   "metadata": {},
   "source": [
    "# Hypothesis testing in python\n",
    "\n",
    "In this notebook we are going to cover the basics of frequentist (p-values etc) hypothesis testing in python.\n",
    "\n",
    "## Who is this notebook aimed at?\n",
    "This notebook is aimed at people with a very basic knoweldge of python (by that I mean you know how to install using pip etc, load libaraies and code very basic things like declaring functions to an variables). \n",
    "\n",
    "Also a very basic understanding of t-tests and ANOVAs would be helpful as this notebook won't go over them in detail.\n",
    "\n",
    "## The data and what we want to \n",
    "\n",
    "The data we have is performance data from individuals with depression, anxiety and controls on two tasks. See the fake data notebook to see more details on how this data was created.\n",
    "\n",
    "What we want to do is explore potential group differences using python\n",
    "\n",
    "## Code time\n",
    "\n",
    "Before we go any further we need to import the libraries we need. We will use scipy.stats to import statistical functions we need, pandas to read in the data, seaborn and matplotlib to plot the data, pingouin and statsmodels.api to test for group differences\n"
   ]
  },
  {
   "cell_type": "code",
   "execution_count": 1,
   "metadata": {},
   "outputs": [],
   "source": [
    "import scipy.stats\n",
    "import pandas as pd\n",
    "import seaborn as sns\n",
    "sns.set_style('dark')\n",
    "import matplotlib.pyplot as plt\n",
    "import pingouin as pin\n",
    "import statsmodels.api"
   ]
  },
  {
   "attachments": {},
   "cell_type": "markdown",
   "metadata": {},
   "source": [
    "## Data exploration\n",
    "\n",
    "The first thing to do is to read in the data."
   ]
  },
  {
   "cell_type": "code",
   "execution_count": 2,
   "metadata": {},
   "outputs": [],
   "source": [
    "df = pd.read_csv('data/task_data.csv')"
   ]
  },
  {
   "attachments": {},
   "cell_type": "markdown",
   "metadata": {},
   "source": [
    "Next we can explore the data by check for any null vaules and then describing the data using pandas describe method "
   ]
  },
  {
   "cell_type": "code",
   "execution_count": 3,
   "metadata": {},
   "outputs": [
    {
     "data": {
      "text/plain": [
       "task_one    False\n",
       "task_two    False\n",
       "Group       False\n",
       "dtype: bool"
      ]
     },
     "execution_count": 3,
     "metadata": {},
     "output_type": "execute_result"
    }
   ],
   "source": [
    "df.isnull().any()"
   ]
  },
  {
   "cell_type": "code",
   "execution_count": 4,
   "metadata": {},
   "outputs": [
    {
     "data": {
      "text/html": [
       "<div>\n",
       "<style scoped>\n",
       "    .dataframe tbody tr th:only-of-type {\n",
       "        vertical-align: middle;\n",
       "    }\n",
       "\n",
       "    .dataframe tbody tr th {\n",
       "        vertical-align: top;\n",
       "    }\n",
       "\n",
       "    .dataframe thead th {\n",
       "        text-align: right;\n",
       "    }\n",
       "</style>\n",
       "<table border=\"1\" class=\"dataframe\">\n",
       "  <thead>\n",
       "    <tr style=\"text-align: right;\">\n",
       "      <th></th>\n",
       "      <th>task_one</th>\n",
       "      <th>task_two</th>\n",
       "    </tr>\n",
       "  </thead>\n",
       "  <tbody>\n",
       "    <tr>\n",
       "      <th>count</th>\n",
       "      <td>150.000000</td>\n",
       "      <td>150.000000</td>\n",
       "    </tr>\n",
       "    <tr>\n",
       "      <th>mean</th>\n",
       "      <td>1.203144</td>\n",
       "      <td>2.046177</td>\n",
       "    </tr>\n",
       "    <tr>\n",
       "      <th>std</th>\n",
       "      <td>0.599466</td>\n",
       "      <td>0.854838</td>\n",
       "    </tr>\n",
       "    <tr>\n",
       "      <th>min</th>\n",
       "      <td>0.029288</td>\n",
       "      <td>0.050107</td>\n",
       "    </tr>\n",
       "    <tr>\n",
       "      <th>25%</th>\n",
       "      <td>0.781000</td>\n",
       "      <td>1.492856</td>\n",
       "    </tr>\n",
       "    <tr>\n",
       "      <th>50%</th>\n",
       "      <td>1.167776</td>\n",
       "      <td>2.082411</td>\n",
       "    </tr>\n",
       "    <tr>\n",
       "      <th>75%</th>\n",
       "      <td>1.607271</td>\n",
       "      <td>2.487684</td>\n",
       "    </tr>\n",
       "    <tr>\n",
       "      <th>max</th>\n",
       "      <td>2.734936</td>\n",
       "      <td>3.946470</td>\n",
       "    </tr>\n",
       "  </tbody>\n",
       "</table>\n",
       "</div>"
      ],
      "text/plain": [
       "         task_one    task_two\n",
       "count  150.000000  150.000000\n",
       "mean     1.203144    2.046177\n",
       "std      0.599466    0.854838\n",
       "min      0.029288    0.050107\n",
       "25%      0.781000    1.492856\n",
       "50%      1.167776    2.082411\n",
       "75%      1.607271    2.487684\n",
       "max      2.734936    3.946470"
      ]
     },
     "execution_count": 4,
     "metadata": {},
     "output_type": "execute_result"
    }
   ],
   "source": [
    "df.describe()"
   ]
  },
  {
   "attachments": {},
   "cell_type": "markdown",
   "metadata": {},
   "source": [
    "To make it easier later on lets group the controls, anxiety and depression groups into three seperate dataframes and then describe each group."
   ]
  },
  {
   "cell_type": "code",
   "execution_count": 5,
   "metadata": {},
   "outputs": [],
   "source": [
    "groups = df.groupby('Group')\n",
    "controls = groups.get_group('HC')\n",
    "dep = groups.get_group('DEP')\n",
    "anx = groups.get_group('ANX')"
   ]
  },
  {
   "cell_type": "code",
   "execution_count": 6,
   "metadata": {},
   "outputs": [
    {
     "data": {
      "text/html": [
       "<div>\n",
       "<style scoped>\n",
       "    .dataframe tbody tr th:only-of-type {\n",
       "        vertical-align: middle;\n",
       "    }\n",
       "\n",
       "    .dataframe tbody tr th {\n",
       "        vertical-align: top;\n",
       "    }\n",
       "\n",
       "    .dataframe thead th {\n",
       "        text-align: right;\n",
       "    }\n",
       "</style>\n",
       "<table border=\"1\" class=\"dataframe\">\n",
       "  <thead>\n",
       "    <tr style=\"text-align: right;\">\n",
       "      <th></th>\n",
       "      <th>task_one</th>\n",
       "      <th>task_two</th>\n",
       "    </tr>\n",
       "  </thead>\n",
       "  <tbody>\n",
       "    <tr>\n",
       "      <th>count</th>\n",
       "      <td>50.000000</td>\n",
       "      <td>50.000000</td>\n",
       "    </tr>\n",
       "    <tr>\n",
       "      <th>mean</th>\n",
       "      <td>0.723176</td>\n",
       "      <td>1.348415</td>\n",
       "    </tr>\n",
       "    <tr>\n",
       "      <th>std</th>\n",
       "      <td>0.435999</td>\n",
       "      <td>0.809511</td>\n",
       "    </tr>\n",
       "    <tr>\n",
       "      <th>min</th>\n",
       "      <td>0.029288</td>\n",
       "      <td>0.050107</td>\n",
       "    </tr>\n",
       "    <tr>\n",
       "      <th>25%</th>\n",
       "      <td>0.412070</td>\n",
       "      <td>0.766595</td>\n",
       "    </tr>\n",
       "    <tr>\n",
       "      <th>50%</th>\n",
       "      <td>0.647064</td>\n",
       "      <td>1.325446</td>\n",
       "    </tr>\n",
       "    <tr>\n",
       "      <th>75%</th>\n",
       "      <td>1.002347</td>\n",
       "      <td>1.969690</td>\n",
       "    </tr>\n",
       "    <tr>\n",
       "      <th>max</th>\n",
       "      <td>1.753900</td>\n",
       "      <td>3.164388</td>\n",
       "    </tr>\n",
       "  </tbody>\n",
       "</table>\n",
       "</div>"
      ],
      "text/plain": [
       "        task_one   task_two\n",
       "count  50.000000  50.000000\n",
       "mean    0.723176   1.348415\n",
       "std     0.435999   0.809511\n",
       "min     0.029288   0.050107\n",
       "25%     0.412070   0.766595\n",
       "50%     0.647064   1.325446\n",
       "75%     1.002347   1.969690\n",
       "max     1.753900   3.164388"
      ]
     },
     "execution_count": 6,
     "metadata": {},
     "output_type": "execute_result"
    }
   ],
   "source": [
    "controls.describe()"
   ]
  },
  {
   "cell_type": "code",
   "execution_count": 7,
   "metadata": {},
   "outputs": [
    {
     "data": {
      "text/html": [
       "<div>\n",
       "<style scoped>\n",
       "    .dataframe tbody tr th:only-of-type {\n",
       "        vertical-align: middle;\n",
       "    }\n",
       "\n",
       "    .dataframe tbody tr th {\n",
       "        vertical-align: top;\n",
       "    }\n",
       "\n",
       "    .dataframe thead th {\n",
       "        text-align: right;\n",
       "    }\n",
       "</style>\n",
       "<table border=\"1\" class=\"dataframe\">\n",
       "  <thead>\n",
       "    <tr style=\"text-align: right;\">\n",
       "      <th></th>\n",
       "      <th>task_one</th>\n",
       "      <th>task_two</th>\n",
       "    </tr>\n",
       "  </thead>\n",
       "  <tbody>\n",
       "    <tr>\n",
       "      <th>count</th>\n",
       "      <td>50.000000</td>\n",
       "      <td>50.000000</td>\n",
       "    </tr>\n",
       "    <tr>\n",
       "      <th>mean</th>\n",
       "      <td>1.519535</td>\n",
       "      <td>2.055081</td>\n",
       "    </tr>\n",
       "    <tr>\n",
       "      <th>std</th>\n",
       "      <td>0.525836</td>\n",
       "      <td>0.455647</td>\n",
       "    </tr>\n",
       "    <tr>\n",
       "      <th>min</th>\n",
       "      <td>0.584404</td>\n",
       "      <td>1.072323</td>\n",
       "    </tr>\n",
       "    <tr>\n",
       "      <th>25%</th>\n",
       "      <td>1.114924</td>\n",
       "      <td>1.786529</td>\n",
       "    </tr>\n",
       "    <tr>\n",
       "      <th>50%</th>\n",
       "      <td>1.440234</td>\n",
       "      <td>2.013727</td>\n",
       "    </tr>\n",
       "    <tr>\n",
       "      <th>75%</th>\n",
       "      <td>1.797627</td>\n",
       "      <td>2.353201</td>\n",
       "    </tr>\n",
       "    <tr>\n",
       "      <th>max</th>\n",
       "      <td>2.696327</td>\n",
       "      <td>2.977051</td>\n",
       "    </tr>\n",
       "  </tbody>\n",
       "</table>\n",
       "</div>"
      ],
      "text/plain": [
       "        task_one   task_two\n",
       "count  50.000000  50.000000\n",
       "mean    1.519535   2.055081\n",
       "std     0.525836   0.455647\n",
       "min     0.584404   1.072323\n",
       "25%     1.114924   1.786529\n",
       "50%     1.440234   2.013727\n",
       "75%     1.797627   2.353201\n",
       "max     2.696327   2.977051"
      ]
     },
     "execution_count": 7,
     "metadata": {},
     "output_type": "execute_result"
    }
   ],
   "source": [
    "dep.describe()"
   ]
  },
  {
   "cell_type": "code",
   "execution_count": 8,
   "metadata": {},
   "outputs": [
    {
     "data": {
      "text/html": [
       "<div>\n",
       "<style scoped>\n",
       "    .dataframe tbody tr th:only-of-type {\n",
       "        vertical-align: middle;\n",
       "    }\n",
       "\n",
       "    .dataframe tbody tr th {\n",
       "        vertical-align: top;\n",
       "    }\n",
       "\n",
       "    .dataframe thead th {\n",
       "        text-align: right;\n",
       "    }\n",
       "</style>\n",
       "<table border=\"1\" class=\"dataframe\">\n",
       "  <thead>\n",
       "    <tr style=\"text-align: right;\">\n",
       "      <th></th>\n",
       "      <th>task_one</th>\n",
       "      <th>task_two</th>\n",
       "    </tr>\n",
       "  </thead>\n",
       "  <tbody>\n",
       "    <tr>\n",
       "      <th>count</th>\n",
       "      <td>50.000000</td>\n",
       "      <td>50.000000</td>\n",
       "    </tr>\n",
       "    <tr>\n",
       "      <th>mean</th>\n",
       "      <td>1.366720</td>\n",
       "      <td>2.735035</td>\n",
       "    </tr>\n",
       "    <tr>\n",
       "      <th>std</th>\n",
       "      <td>0.511494</td>\n",
       "      <td>0.614858</td>\n",
       "    </tr>\n",
       "    <tr>\n",
       "      <th>min</th>\n",
       "      <td>0.249720</td>\n",
       "      <td>1.851753</td>\n",
       "    </tr>\n",
       "    <tr>\n",
       "      <th>25%</th>\n",
       "      <td>1.003406</td>\n",
       "      <td>2.247590</td>\n",
       "    </tr>\n",
       "    <tr>\n",
       "      <th>50%</th>\n",
       "      <td>1.275888</td>\n",
       "      <td>2.583214</td>\n",
       "    </tr>\n",
       "    <tr>\n",
       "      <th>75%</th>\n",
       "      <td>1.631248</td>\n",
       "      <td>3.228751</td>\n",
       "    </tr>\n",
       "    <tr>\n",
       "      <th>max</th>\n",
       "      <td>2.734936</td>\n",
       "      <td>3.946470</td>\n",
       "    </tr>\n",
       "  </tbody>\n",
       "</table>\n",
       "</div>"
      ],
      "text/plain": [
       "        task_one   task_two\n",
       "count  50.000000  50.000000\n",
       "mean    1.366720   2.735035\n",
       "std     0.511494   0.614858\n",
       "min     0.249720   1.851753\n",
       "25%     1.003406   2.247590\n",
       "50%     1.275888   2.583214\n",
       "75%     1.631248   3.228751\n",
       "max     2.734936   3.946470"
      ]
     },
     "execution_count": 8,
     "metadata": {},
     "output_type": "execute_result"
    }
   ],
   "source": [
    "anx.describe()"
   ]
  },
  {
   "attachments": {},
   "cell_type": "markdown",
   "metadata": {},
   "source": [
    "## Comparisons of two groups\n",
    "\n",
    "The first thing we are going to do is test for within group differences groups between task one and task two. But before we do we need to test if our data meets the assumptions for parameteric meterics.\n",
    "\n",
    "Broadly the data needs homogeneity of variance (the variability of the data in each group is similar), of a normal distribution, is continuous and sampled randomly. \n",
    "\n",
    "We have seen our data is continuous and it is randomly sampled. However we need to check that the data is normally distributed and homogeneity of variance. \n",
    "\n",
    "This will can be done by plotting the distribution and using , as well as scipy.stats.levene (if significant variance differs) test to test  homogeneity of variance\n",
    "\n",
    "First lets plot the data at time point one (I am doing it by time point or else the graphs get very busy). Seaborn has a kdeplot function to do this "
   ]
  },
  {
   "cell_type": "code",
   "execution_count": 9,
   "metadata": {},
   "outputs": [
    {
     "data": {
      "text/plain": [
       "<Axes: xlabel='task_one', ylabel='Density'>"
      ]
     },
     "execution_count": 9,
     "metadata": {},
     "output_type": "execute_result"
    },
    {
     "data": {
      "image/png": "[encoded data removed]",
      "text/plain": [
       "<Figure size 640x480 with 1 Axes>"
      ]
     },
     "metadata": {},
     "output_type": "display_data"
    }
   ],
   "source": [
    "sns.kdeplot(data=df, x='task_one', hue='Group')"
   ]
  },
  {
   "cell_type": "code",
   "execution_count": 10,
   "metadata": {},
   "outputs": [
    {
     "data": {
      "text/plain": [
       "<Axes: xlabel='task_two', ylabel='Density'>"
      ]
     },
     "execution_count": 10,
     "metadata": {},
     "output_type": "execute_result"
    },
    {
     "data": {
      "image/png": "[encoded data removed]",
      "text/plain": [
       "<Figure size 640x480 with 1 Axes>"
      ]
     },
     "metadata": {},
     "output_type": "display_data"
    }
   ],
   "source": [
    "sns.kdeplot(data=df, x='task_two', hue='Group', color='rocket')"
   ]
  },
  {
   "attachments": {},
   "cell_type": "markdown",
   "metadata": {},
   "source": [
    "For task one the distriubtions all look broadly normally but task two the distutions all look different. Lets use scipy.stats.normaltest  to test if each distubtion is for normal (if significant then the distribution is not normally distibuted)\n"
   ]
  },
  {
   "cell_type": "code",
   "execution_count": 11,
   "metadata": {},
   "outputs": [
    {
     "name": "stdout",
     "output_type": "stream",
     "text": [
      "Controls normal test for task_one NormaltestResult(statistic=3.275813775123078, pvalue=0.19438648955174168)\n",
      "Depressed normal test for task_one NormaltestResult(statistic=2.9920852376949605, pvalue=0.22401492075155147)\n",
      "Anxious normal test for task_one NormaltestResult(statistic=3.0256363893791303, pvalue=0.2202882870670739)\n",
      "Controls normal test for task_two NormaltestResult(statistic=2.305952679723562, pvalue=0.31569575182934134)\n",
      "Depressed normal test for task_two NormaltestResult(statistic=0.12646260611032487, pvalue=0.9387263183103636)\n",
      "Anxious normal test for task_two NormaltestResult(statistic=9.292686834104947, pvalue=0.009596628721269184)\n"
     ]
    }
   ],
   "source": [
    "for column in df.columns:\n",
    "    if column != 'Group':\n",
    "        print(f'Controls normal test for {column}', scipy.stats.normaltest(controls[column]))\n",
    "        print(f'Depressed normal test for {column}', scipy.stats.normaltest(dep[column]))\n",
    "        print(f'Anxious normal test for {column}', scipy.stats.normaltest(anx[column]))\n",
    "#scipy.stats.normaltest(data_anx['depressed_anxiety_muam_scores'])"
   ]
  },
  {
   "attachments": {},
   "cell_type": "markdown",
   "metadata": {},
   "source": [
    "From this we can see that all the distributions are normal apart from anxious individuals at time point two.\n",
    "\n",
    "Now lets check to see if the within group distributions have homogeneity of variance (same variance) using scipy.stats.levene test."
   ]
  },
  {
   "cell_type": "code",
   "execution_count": 12,
   "metadata": {},
   "outputs": [
    {
     "name": "stdout",
     "output_type": "stream",
     "text": [
      "Controls levene test for  LeveneResult(statistic=16.465525146226863, pvalue=9.963763756500008e-05)\n",
      "Depressed levene test for  LeveneResult(statistic=1.357496802336857, pvalue=0.24679995169739433)\n",
      "Anxious levene test for  LeveneResult(statistic=3.9998835027332014, pvalue=0.04827097147515577)\n"
     ]
    }
   ],
   "source": [
    "print(f'Controls levene test for ', scipy.stats.levene(controls['task_one'], controls['task_two']))\n",
    "print(f'Depressed levene test for ', scipy.stats.levene(dep['task_one'], dep['task_two']))\n",
    "print(f'Anxious levene test for ', scipy.stats.levene(anx['task_one'], anx['task_two']))"
   ]
  },
  {
   "attachments": {},
   "cell_type": "markdown",
   "metadata": {},
   "source": [
    "From this we can see that the variance for anxious individuals is equal across time points, but not for the depressed individuals and the controls\n",
    "\n",
    "We can now test for within-group differences at time points. For depressed individuals we can use a paired-test implemented in pingouin, just make sure to pass \n",
    "```paired=True``` "
   ]
  },
  {
   "cell_type": "code",
   "execution_count": 13,
   "metadata": {},
   "outputs": [
    {
     "data": {
      "text/html": [
       "<div>\n",
       "<style scoped>\n",
       "    .dataframe tbody tr th:only-of-type {\n",
       "        vertical-align: middle;\n",
       "    }\n",
       "\n",
       "    .dataframe tbody tr th {\n",
       "        vertical-align: top;\n",
       "    }\n",
       "\n",
       "    .dataframe thead th {\n",
       "        text-align: right;\n",
       "    }\n",
       "</style>\n",
       "<table border=\"1\" class=\"dataframe\">\n",
       "  <thead>\n",
       "    <tr style=\"text-align: right;\">\n",
       "      <th></th>\n",
       "      <th>T</th>\n",
       "      <th>dof</th>\n",
       "      <th>alternative</th>\n",
       "      <th>p-val</th>\n",
       "      <th>CI95%</th>\n",
       "      <th>cohen-d</th>\n",
       "      <th>BF10</th>\n",
       "      <th>power</th>\n",
       "    </tr>\n",
       "  </thead>\n",
       "  <tbody>\n",
       "    <tr>\n",
       "      <th>T-test</th>\n",
       "      <td>-5.55538</td>\n",
       "      <td>49</td>\n",
       "      <td>two-sided</td>\n",
       "      <td>0.000001</td>\n",
       "      <td>[-0.73, -0.34]</td>\n",
       "      <td>1.08852</td>\n",
       "      <td>1.467e+04</td>\n",
       "      <td>1.0</td>\n",
       "    </tr>\n",
       "  </tbody>\n",
       "</table>\n",
       "</div>"
      ],
      "text/plain": [
       "              T  dof alternative     p-val           CI95%  cohen-d  \\\n",
       "T-test -5.55538   49   two-sided  0.000001  [-0.73, -0.34]  1.08852   \n",
       "\n",
       "             BF10  power  \n",
       "T-test  1.467e+04    1.0  "
      ]
     },
     "execution_count": 13,
     "metadata": {},
     "output_type": "execute_result"
    }
   ],
   "source": [
    "pin.ttest(dep['task_one'], dep['task_two'], paired=True)"
   ]
  },
  {
   "attachments": {},
   "cell_type": "markdown",
   "metadata": {},
   "source": [
    "For the other two measures we are going to have to use non-parameteric version, the wilcoxon test."
   ]
  },
  {
   "cell_type": "code",
   "execution_count": 14,
   "metadata": {},
   "outputs": [
    {
     "data": {
      "text/html": [
       "<div>\n",
       "<style scoped>\n",
       "    .dataframe tbody tr th:only-of-type {\n",
       "        vertical-align: middle;\n",
       "    }\n",
       "\n",
       "    .dataframe tbody tr th {\n",
       "        vertical-align: top;\n",
       "    }\n",
       "\n",
       "    .dataframe thead th {\n",
       "        text-align: right;\n",
       "    }\n",
       "</style>\n",
       "<table border=\"1\" class=\"dataframe\">\n",
       "  <thead>\n",
       "    <tr style=\"text-align: right;\">\n",
       "      <th></th>\n",
       "      <th>W-val</th>\n",
       "      <th>alternative</th>\n",
       "      <th>p-val</th>\n",
       "      <th>RBC</th>\n",
       "      <th>CLES</th>\n",
       "    </tr>\n",
       "  </thead>\n",
       "  <tbody>\n",
       "    <tr>\n",
       "      <th>Wilcoxon</th>\n",
       "      <td>14.0</td>\n",
       "      <td>two-sided</td>\n",
       "      <td>1.953993e-13</td>\n",
       "      <td>-0.978039</td>\n",
       "      <td>0.038</td>\n",
       "    </tr>\n",
       "  </tbody>\n",
       "</table>\n",
       "</div>"
      ],
      "text/plain": [
       "          W-val alternative         p-val       RBC   CLES\n",
       "Wilcoxon   14.0   two-sided  1.953993e-13 -0.978039  0.038"
      ]
     },
     "execution_count": 14,
     "metadata": {},
     "output_type": "execute_result"
    }
   ],
   "source": [
    "pin.wilcoxon(anx['task_one'], anx['task_two'])"
   ]
  },
  {
   "cell_type": "code",
   "execution_count": 15,
   "metadata": {},
   "outputs": [
    {
     "data": {
      "text/html": [
       "<div>\n",
       "<style scoped>\n",
       "    .dataframe tbody tr th:only-of-type {\n",
       "        vertical-align: middle;\n",
       "    }\n",
       "\n",
       "    .dataframe tbody tr th {\n",
       "        vertical-align: top;\n",
       "    }\n",
       "\n",
       "    .dataframe thead th {\n",
       "        text-align: right;\n",
       "    }\n",
       "</style>\n",
       "<table border=\"1\" class=\"dataframe\">\n",
       "  <thead>\n",
       "    <tr style=\"text-align: right;\">\n",
       "      <th></th>\n",
       "      <th>W-val</th>\n",
       "      <th>alternative</th>\n",
       "      <th>p-val</th>\n",
       "      <th>RBC</th>\n",
       "      <th>CLES</th>\n",
       "    </tr>\n",
       "  </thead>\n",
       "  <tbody>\n",
       "    <tr>\n",
       "      <th>Wilcoxon</th>\n",
       "      <td>212.0</td>\n",
       "      <td>two-sided</td>\n",
       "      <td>0.000016</td>\n",
       "      <td>-0.667451</td>\n",
       "      <td>0.2584</td>\n",
       "    </tr>\n",
       "  </tbody>\n",
       "</table>\n",
       "</div>"
      ],
      "text/plain": [
       "          W-val alternative     p-val       RBC    CLES\n",
       "Wilcoxon  212.0   two-sided  0.000016 -0.667451  0.2584"
      ]
     },
     "execution_count": 15,
     "metadata": {},
     "output_type": "execute_result"
    }
   ],
   "source": [
    "pin.wilcoxon(controls['task_one'], controls['task_two'])"
   ]
  },
  {
   "attachments": {},
   "cell_type": "markdown",
   "metadata": {},
   "source": [
    "## Comparison of three or more groups\n",
    "\n",
    "We are going to do a between group comparison either using an ANOVA or the non-parameteric version the Kruskal-Wallis H-test.\n",
    "\n",
    "For an ANOVA we need normally distributed residuals (error term) as well as equal variance.\n",
    "\n",
    "The great thing about python is we can code all this in one list comprehension. The below code will return the name of the task if an only if the residuals are normally distrubtion and variance and equal. Briefly is does an OLS regression then returns the residuals to check the distribution as well as the levene test mentioned earlier  "
   ]
  },
  {
   "cell_type": "code",
   "execution_count": 20,
   "metadata": {},
   "outputs": [
    {
     "name": "stdout",
     "output_type": "stream",
     "text": [
      "The Number of measures that meet the assumptions for ANOVAs: []\n"
     ]
    }
   ],
   "source": [
    "from statsmodels.formula.api import ols\n",
    "measures = ['task_one', 'task_two']\n",
    "anova = [measure for measure in measures if scipy.stats.normaltest((ols(f'{measure} ~ Group', data=df).fit().resid))[1] > 0.05\n",
    "              and scipy.stats.levene(anx[measure].dropna(), dep[measure].dropna(), controls[measure].dropna())[1] > 0.05] \n",
    "\n",
    "print('The Number of measures that meet the assumptions for ANOVAs:', anova)"
   ]
  },
  {
   "attachments": {},
   "cell_type": "markdown",
   "metadata": {},
   "source": [
    "We can see niether of the measures meet the assumotions for ANOVAs. For completeness we can plot the residuals for both tasks to check they definetly aren't normally distributied. The ols.resid returns a pandas series which can then be easily manipulated for plotting"
   ]
  },
  {
   "cell_type": "code",
   "execution_count": 35,
   "metadata": {},
   "outputs": [
    {
     "data": {
      "text/plain": [
       "<Axes: xlabel='residual', ylabel='Density'>"
      ]
     },
     "execution_count": 35,
     "metadata": {},
     "output_type": "execute_result"
    },
    {
     "data": {
      "image/png": "[encoded data removed]",
      "text/plain": [
       "<Figure size 640x480 with 1 Axes>"
      ]
     },
     "metadata": {},
     "output_type": "display_data"
    }
   ],
   "source": [
    "task_one_residuals = pd.DataFrame({'residual': ols('task_one ~ Group', data=df).fit().resid})\n",
    "task_one_residuals['task'] = 'task_one'\n",
    "task_two_residuals = pd.DataFrame({'residual': ols('task_two ~ Group', data=df).fit().resid})\n",
    "task_two_residuals['task'] = 'task_two'\n",
    "\n",
    "resid_df = pd.concat([task_one_residuals, task_two_residuals])\n",
    "sns.kdeplot(data=resid_df, x='residual', hue='task')"
   ]
  },
  {
   "attachments": {},
   "cell_type": "markdown",
   "metadata": {},
   "source": [
    "We can see that the distribtuions don't quite look normal. \n",
    "\n",
    "So to test for group difference we are going to use the Kruskal-Wallis H-test. This comes with pingouin."
   ]
  },
  {
   "cell_type": "code",
   "execution_count": 37,
   "metadata": {},
   "outputs": [
    {
     "data": {
      "text/html": [
       "<div>\n",
       "<style scoped>\n",
       "    .dataframe tbody tr th:only-of-type {\n",
       "        vertical-align: middle;\n",
       "    }\n",
       "\n",
       "    .dataframe tbody tr th {\n",
       "        vertical-align: top;\n",
       "    }\n",
       "\n",
       "    .dataframe thead th {\n",
       "        text-align: right;\n",
       "    }\n",
       "</style>\n",
       "<table border=\"1\" class=\"dataframe\">\n",
       "  <thead>\n",
       "    <tr style=\"text-align: right;\">\n",
       "      <th></th>\n",
       "      <th>Source</th>\n",
       "      <th>ddof1</th>\n",
       "      <th>H</th>\n",
       "      <th>p-unc</th>\n",
       "    </tr>\n",
       "  </thead>\n",
       "  <tbody>\n",
       "    <tr>\n",
       "      <th>Kruskal</th>\n",
       "      <td>Group</td>\n",
       "      <td>2</td>\n",
       "      <td>52.586532</td>\n",
       "      <td>3.810479e-12</td>\n",
       "    </tr>\n",
       "  </tbody>\n",
       "</table>\n",
       "</div>"
      ],
      "text/plain": [
       "        Source  ddof1          H         p-unc\n",
       "Kruskal  Group      2  52.586532  3.810479e-12"
      ]
     },
     "execution_count": 37,
     "metadata": {},
     "output_type": "execute_result"
    }
   ],
   "source": [
    "pin.kruskal(data=df, dv='task_one', between='Group')"
   ]
  },
  {
   "cell_type": "code",
   "execution_count": 38,
   "metadata": {},
   "outputs": [
    {
     "data": {
      "text/html": [
       "<div>\n",
       "<style scoped>\n",
       "    .dataframe tbody tr th:only-of-type {\n",
       "        vertical-align: middle;\n",
       "    }\n",
       "\n",
       "    .dataframe tbody tr th {\n",
       "        vertical-align: top;\n",
       "    }\n",
       "\n",
       "    .dataframe thead th {\n",
       "        text-align: right;\n",
       "    }\n",
       "</style>\n",
       "<table border=\"1\" class=\"dataframe\">\n",
       "  <thead>\n",
       "    <tr style=\"text-align: right;\">\n",
       "      <th></th>\n",
       "      <th>Source</th>\n",
       "      <th>ddof1</th>\n",
       "      <th>H</th>\n",
       "      <th>p-unc</th>\n",
       "    </tr>\n",
       "  </thead>\n",
       "  <tbody>\n",
       "    <tr>\n",
       "      <th>Kruskal</th>\n",
       "      <td>Group</td>\n",
       "      <td>2</td>\n",
       "      <td>62.791269</td>\n",
       "      <td>2.317657e-14</td>\n",
       "    </tr>\n",
       "  </tbody>\n",
       "</table>\n",
       "</div>"
      ],
      "text/plain": [
       "        Source  ddof1          H         p-unc\n",
       "Kruskal  Group      2  62.791269  2.317657e-14"
      ]
     },
     "execution_count": 38,
     "metadata": {},
     "output_type": "execute_result"
    }
   ],
   "source": [
    "pin.kruskal(data=df, dv='task_two', between='Group')"
   ]
  },
  {
   "attachments": {},
   "cell_type": "markdown",
   "metadata": {},
   "source": [
    "We can see that there is a group difference but between which groups?\n",
    "\n",
    "For sake of easy and consistency we can do three manwhitney-U tests to check which groups do differ. We save these to variables as they are dataframes and then \n",
    "we can then use statsmodels.stats.multitest.multipletests to control for multiple comparisons. \n",
    "\n",
    "For shake of time I will only do this for task one but just repeat the process for task two if you want!"
   ]
  },
  {
   "cell_type": "code",
   "execution_count": 39,
   "metadata": {},
   "outputs": [],
   "source": [
    "dep_anx_t1 = pin.mwu(dep['task_one'], anx['task_one'])\n",
    "dep_controls_t1 = pin.mwu(dep['task_one'], controls['task_one'])\n",
    "controls_anx_t1 = pin.mwu(controls['task_one'], anx['task_one'])"
   ]
  },
  {
   "cell_type": "code",
   "execution_count": 45,
   "metadata": {},
   "outputs": [
    {
     "data": {
      "text/plain": [
       "(array([False,  True,  True]),\n",
       " array([1.79969819e-01, 1.01798081e-10, 1.98259426e-08]),\n",
       " 0.016952427508441503,\n",
       " 0.016666666666666666)"
      ]
     },
     "execution_count": 45,
     "metadata": {},
     "output_type": "execute_result"
    }
   ],
   "source": [
    "from statsmodels.stats.multitest import multipletests\n",
    "multipletests((dep_anx_t1['p-val'][0], dep_controls_t1['p-val'][0], controls_anx_t1['p-val'][0]))"
   ]
  },
  {
   "attachments": {},
   "cell_type": "markdown",
   "metadata": {},
   "source": [
    "What this returns is information on the p-values after controlling the family-wise-error rate, using the holm-sidak method. Multipletests can control the FWER using a few different methods by passing the method name to ```method=``` (see documentation https://www.statsmodels.org/dev/generated/statsmodels.stats.multitest.multipletests.html) \n",
    "\n",
    "What multipletests tells us is first are the p-values still significant after controlling the FWER? This is the array of False, True, True and tells us that the p-values are still significant for depressed and anxious individuals between controls but not between each other. \n",
    "\n",
    "The next line gives us the new updated p-values. The third and fourth line are not useful in this seceanrio but they give the alpha level if we were using the Sidak and Bonferroni methods respectively. "
   ]
  },
  {
   "attachments": {},
   "cell_type": "markdown",
   "metadata": {},
   "source": [
    "## Conclusion\n",
    "\n",
    "There are so many statistical test and things you can do in python. Anovas for example are as easy to do as Kruskal-Wallis H-test just change the function call.\n",
    "\n",
    "The main statistical packages in python are statsmodel.api, scipy and pingouin and going on there websites lists all the functions avaiable for hypothesis testing in python!"
   ]
  }
 ],
 "metadata": {
  "kernelspec": {
   "display_name": "venv",
   "language": "python",
   "name": "python3"
  },
  "language_info": {
   "codemirror_mode": {
    "name": "ipython",
    "version": 3
   },
   "file_extension": ".py",
   "mimetype": "text/x-python",
   "name": "python",
   "nbconvert_exporter": "python",
   "pygments_lexer": "ipython3",
   "version": "3.9.5"
  },
  "orig_nbformat": 4
 },
 "nbformat": 4,
 "nbformat_minor": 2
}
