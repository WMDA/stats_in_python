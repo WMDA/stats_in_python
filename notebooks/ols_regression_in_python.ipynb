{
 "cells": [
  {
   "attachments": {},
   "cell_type": "markdown",
   "metadata": {},
   "source": [
    "# OLS regression in python\n",
    "\n",
    "This is a notebook to show how to run a simple OLS regression in python. I am going to assume that users are already familar with OLS regressions and with a bit of python. This notebook is aimed at people who want to see how to do a regression in python.\n",
    "\n",
    "## The task and data\n",
    "\n",
    "We have collected (faked) data from 500 participants asking them to rate their happiness on our brand new questionnaire! The questionnaire returns a continous variable, as well as asking people what their gender is (dummy variable), age and years in education.\n",
    "\n",
    "We want to see if gender, age or years in education is related at all to happiness\n",
    "\n",
    "## Code time\n",
    "First import the necessary libaries. We are going to use statsmodels.formula.api OLS regression, this is to keep things simple but if you don't want to use the formula option then use statsmodel.api ols. We are also going to use pandas/numpy for data manipulation, seaborn for plotting as well as scipy and statsmodels for general statistical functions.\n"
   ]
  },
  {
   "cell_type": "code",
   "execution_count": 2,
   "metadata": {},
   "outputs": [],
   "source": [
    "from statsmodels.formula.api import ols\n",
    "from statsmodels.stats.api import  het_breuschpagan\n",
    "from statsmodels.compat import lzip\n",
    "from statsmodels.stats.outliers_influence import variance_inflation_factor\n",
    "import scipy\n",
    "import pandas as pd\n",
    "import numpy as np\n",
    "import seaborn as sns\n",
    "sns.set_style('dark')"
   ]
  },
  {
   "attachments": {},
   "cell_type": "markdown",
   "metadata": {},
   "source": [
    "First lets read in the data and explore it by checking the descriptive stats and if there are any null values"
   ]
  },
  {
   "cell_type": "code",
   "execution_count": 3,
   "metadata": {},
   "outputs": [],
   "source": [
    "df = pd.read_csv('data/questionnaire_data.csv')"
   ]
  },
  {
   "cell_type": "code",
   "execution_count": 6,
   "metadata": {},
   "outputs": [
    {
     "data": {
      "text/plain": [
       "age                   False\n",
       "years_in_education    False\n",
       "gender                False\n",
       "questionnaire         False\n",
       "dtype: bool"
      ]
     },
     "execution_count": 6,
     "metadata": {},
     "output_type": "execute_result"
    }
   ],
   "source": [
    "df.isnull().any()"
   ]
  },
  {
   "cell_type": "code",
   "execution_count": 7,
   "metadata": {},
   "outputs": [
    {
     "data": {
      "text/html": [
       "<div>\n",
       "<style scoped>\n",
       "    .dataframe tbody tr th:only-of-type {\n",
       "        vertical-align: middle;\n",
       "    }\n",
       "\n",
       "    .dataframe tbody tr th {\n",
       "        vertical-align: top;\n",
       "    }\n",
       "\n",
       "    .dataframe thead th {\n",
       "        text-align: right;\n",
       "    }\n",
       "</style>\n",
       "<table border=\"1\" class=\"dataframe\">\n",
       "  <thead>\n",
       "    <tr style=\"text-align: right;\">\n",
       "      <th></th>\n",
       "      <th>age</th>\n",
       "      <th>years_in_education</th>\n",
       "      <th>gender</th>\n",
       "      <th>questionnaire</th>\n",
       "    </tr>\n",
       "  </thead>\n",
       "  <tbody>\n",
       "    <tr>\n",
       "      <th>count</th>\n",
       "      <td>500.000000</td>\n",
       "      <td>500.00000</td>\n",
       "      <td>500.000000</td>\n",
       "      <td>500.000000</td>\n",
       "    </tr>\n",
       "    <tr>\n",
       "      <th>mean</th>\n",
       "      <td>23.498000</td>\n",
       "      <td>15.10400</td>\n",
       "      <td>0.494000</td>\n",
       "      <td>3.549960</td>\n",
       "    </tr>\n",
       "    <tr>\n",
       "      <th>std</th>\n",
       "      <td>3.525742</td>\n",
       "      <td>2.57963</td>\n",
       "      <td>0.500465</td>\n",
       "      <td>0.811965</td>\n",
       "    </tr>\n",
       "    <tr>\n",
       "      <th>min</th>\n",
       "      <td>18.000000</td>\n",
       "      <td>11.00000</td>\n",
       "      <td>0.000000</td>\n",
       "      <td>1.980000</td>\n",
       "    </tr>\n",
       "    <tr>\n",
       "      <th>25%</th>\n",
       "      <td>20.000000</td>\n",
       "      <td>13.00000</td>\n",
       "      <td>0.000000</td>\n",
       "      <td>2.990000</td>\n",
       "    </tr>\n",
       "    <tr>\n",
       "      <th>50%</th>\n",
       "      <td>23.000000</td>\n",
       "      <td>15.00000</td>\n",
       "      <td>0.000000</td>\n",
       "      <td>3.480000</td>\n",
       "    </tr>\n",
       "    <tr>\n",
       "      <th>75%</th>\n",
       "      <td>27.000000</td>\n",
       "      <td>17.00000</td>\n",
       "      <td>1.000000</td>\n",
       "      <td>4.140000</td>\n",
       "    </tr>\n",
       "    <tr>\n",
       "      <th>max</th>\n",
       "      <td>29.000000</td>\n",
       "      <td>19.00000</td>\n",
       "      <td>1.000000</td>\n",
       "      <td>5.510000</td>\n",
       "    </tr>\n",
       "  </tbody>\n",
       "</table>\n",
       "</div>"
      ],
      "text/plain": [
       "              age  years_in_education      gender  questionnaire\n",
       "count  500.000000           500.00000  500.000000     500.000000\n",
       "mean    23.498000            15.10400    0.494000       3.549960\n",
       "std      3.525742             2.57963    0.500465       0.811965\n",
       "min     18.000000            11.00000    0.000000       1.980000\n",
       "25%     20.000000            13.00000    0.000000       2.990000\n",
       "50%     23.000000            15.00000    0.000000       3.480000\n",
       "75%     27.000000            17.00000    1.000000       4.140000\n",
       "max     29.000000            19.00000    1.000000       5.510000"
      ]
     },
     "execution_count": 7,
     "metadata": {},
     "output_type": "execute_result"
    }
   ],
   "source": [
    "df.describe()"
   ]
  },
  {
   "attachments": {},
   "cell_type": "markdown",
   "metadata": {},
   "source": [
    "Great, no null values.\n",
    "\n",
    "Now lets Build our model. We are going to use one of the simplest linear regressions the OLS regression. We are interested in the relationship between age, years in education and gender to our questionnaire data. "
   ]
  },
  {
   "cell_type": "code",
   "execution_count": 17,
   "metadata": {},
   "outputs": [],
   "source": [
    "ols_regression_model = ols('questionnaire ~ age + years_in_education  + gender', data=df)"
   ]
  },
  {
   "attachments": {},
   "cell_type": "markdown",
   "metadata": {},
   "source": [
    "The syntax for ols formulas might look a bit weird but it luckly it is a fairly standard one used in lots of other packages and in the language R.\n",
    "\n",
    "```~``` splits the fomula into dependent (left side) and independent (right) variables.\n",
    "\n",
    "```+``` means that we are adding more covariates to the model\n",
    "\n",
    "We then fit the model and print out the summary"
   ]
  },
  {
   "cell_type": "code",
   "execution_count": 21,
   "metadata": {},
   "outputs": [],
   "source": [
    "fitted_model = ols_regression_model.fit()"
   ]
  },
  {
   "cell_type": "code",
   "execution_count": 22,
   "metadata": {},
   "outputs": [
    {
     "data": {
      "text/html": [
       "<table class=\"simpletable\">\n",
       "<caption>OLS Regression Results</caption>\n",
       "<tr>\n",
       "  <th>Dep. Variable:</th>      <td>questionnaire</td>  <th>  R-squared:         </th> <td>   0.987</td>\n",
       "</tr>\n",
       "<tr>\n",
       "  <th>Model:</th>                   <td>OLS</td>       <th>  Adj. R-squared:    </th> <td>   0.987</td>\n",
       "</tr>\n",
       "<tr>\n",
       "  <th>Method:</th>             <td>Least Squares</td>  <th>  F-statistic:       </th> <td>   9735.</td>\n",
       "</tr>\n",
       "<tr>\n",
       "  <th>Date:</th>             <td>Thu, 30 Mar 2023</td> <th>  Prob (F-statistic):</th>  <td>  0.00</td> \n",
       "</tr>\n",
       "<tr>\n",
       "  <th>Time:</th>                 <td>11:30:43</td>     <th>  Log-Likelihood:    </th> <td>  489.65</td>\n",
       "</tr>\n",
       "<tr>\n",
       "  <th>No. Observations:</th>      <td>   500</td>      <th>  AIC:               </th> <td>  -969.3</td>\n",
       "</tr>\n",
       "<tr>\n",
       "  <th>Df Residuals:</th>          <td>   495</td>      <th>  BIC:               </th> <td>  -948.2</td>\n",
       "</tr>\n",
       "<tr>\n",
       "  <th>Df Model:</th>              <td>     4</td>      <th>                     </th>     <td> </td>   \n",
       "</tr>\n",
       "<tr>\n",
       "  <th>Covariance Type:</th>      <td>nonrobust</td>    <th>                     </th>     <td> </td>   \n",
       "</tr>\n",
       "</table>\n",
       "<table class=\"simpletable\">\n",
       "<tr>\n",
       "           <td></td>             <th>coef</th>     <th>std err</th>      <th>t</th>      <th>P>|t|</th>  <th>[0.025</th>    <th>0.975]</th>  \n",
       "</tr>\n",
       "<tr>\n",
       "  <th>Intercept</th>          <td>   -3.4794</td> <td>    0.044</td> <td>  -78.373</td> <td> 0.000</td> <td>   -3.567</td> <td>   -3.392</td>\n",
       "</tr>\n",
       "<tr>\n",
       "  <th>age</th>                <td>    0.1493</td> <td>    0.002</td> <td>   94.644</td> <td> 0.000</td> <td>    0.146</td> <td>    0.152</td>\n",
       "</tr>\n",
       "<tr>\n",
       "  <th>years_in_education</th> <td>    0.2330</td> <td>    0.002</td> <td>  146.847</td> <td> 0.000</td> <td>    0.230</td> <td>    0.236</td>\n",
       "</tr>\n",
       "<tr>\n",
       "  <th>age:gender</th>         <td>    0.0038</td> <td>    0.002</td> <td>    1.633</td> <td> 0.103</td> <td>   -0.001</td> <td>    0.008</td>\n",
       "</tr>\n",
       "<tr>\n",
       "  <th>gender</th>             <td>   -0.0854</td> <td>    0.055</td> <td>   -1.541</td> <td> 0.124</td> <td>   -0.194</td> <td>    0.023</td>\n",
       "</tr>\n",
       "</table>\n",
       "<table class=\"simpletable\">\n",
       "<tr>\n",
       "  <th>Omnibus:</th>       <td> 0.333</td> <th>  Durbin-Watson:     </th> <td>   1.941</td>\n",
       "</tr>\n",
       "<tr>\n",
       "  <th>Prob(Omnibus):</th> <td> 0.846</td> <th>  Jarque-Bera (JB):  </th> <td>   0.188</td>\n",
       "</tr>\n",
       "<tr>\n",
       "  <th>Skew:</th>          <td>-0.015</td> <th>  Prob(JB):          </th> <td>   0.910</td>\n",
       "</tr>\n",
       "<tr>\n",
       "  <th>Kurtosis:</th>      <td> 3.090</td> <th>  Cond. No.          </th> <td>    481.</td>\n",
       "</tr>\n",
       "</table><br/><br/>Notes:<br/>[1] Standard Errors assume that the covariance matrix of the errors is correctly specified."
      ],
      "text/plain": [
       "<class 'statsmodels.iolib.summary.Summary'>\n",
       "\"\"\"\n",
       "                            OLS Regression Results                            \n",
       "==============================================================================\n",
       "Dep. Variable:          questionnaire   R-squared:                       0.987\n",
       "Model:                            OLS   Adj. R-squared:                  0.987\n",
       "Method:                 Least Squares   F-statistic:                     9735.\n",
       "Date:                Thu, 30 Mar 2023   Prob (F-statistic):               0.00\n",
       "Time:                        11:30:43   Log-Likelihood:                 489.65\n",
       "No. Observations:                 500   AIC:                            -969.3\n",
       "Df Residuals:                     495   BIC:                            -948.2\n",
       "Df Model:                           4                                         \n",
       "Covariance Type:            nonrobust                                         \n",
       "======================================================================================\n",
       "                         coef    std err          t      P>|t|      [0.025      0.975]\n",
       "--------------------------------------------------------------------------------------\n",
       "Intercept             -3.4794      0.044    -78.373      0.000      -3.567      -3.392\n",
       "age                    0.1493      0.002     94.644      0.000       0.146       0.152\n",
       "years_in_education     0.2330      0.002    146.847      0.000       0.230       0.236\n",
       "age:gender             0.0038      0.002      1.633      0.103      -0.001       0.008\n",
       "gender                -0.0854      0.055     -1.541      0.124      -0.194       0.023\n",
       "==============================================================================\n",
       "Omnibus:                        0.333   Durbin-Watson:                   1.941\n",
       "Prob(Omnibus):                  0.846   Jarque-Bera (JB):                0.188\n",
       "Skew:                          -0.015   Prob(JB):                        0.910\n",
       "Kurtosis:                       3.090   Cond. No.                         481.\n",
       "==============================================================================\n",
       "\n",
       "Notes:\n",
       "[1] Standard Errors assume that the covariance matrix of the errors is correctly specified.\n",
       "\"\"\""
      ]
     },
     "execution_count": 22,
     "metadata": {},
     "output_type": "execute_result"
    }
   ],
   "source": [
    "fitted_model.summary()"
   ]
  },
  {
   "attachments": {},
   "cell_type": "markdown",
   "metadata": {},
   "source": [
    "Great we can see that age and years in education are statstically significant predictors of the questionnaire data, and our model exaplins 99% of the variation!! (this is because of how the data was faked if you see this in RL then the model has huge problems with it)\n",
    "\n",
    "But what about diagnostics? To calculate p-values etc we need the residuals to be normally distributed. We also need to test that there are is no multiconlinearity or heteroscedasticity (that the residual variance does not depend on the variables in x in the form) in our model.\n",
    "\n",
    "Don't worry this is easy in python. First we can get the residuals from our fitted model easily and using scipy.stats.normaltest as well as plotting them we can test to see if they are normally distrubuted "
   ]
  },
  {
   "cell_type": "code",
   "execution_count": 23,
   "metadata": {},
   "outputs": [],
   "source": [
    "residuals = fitted_model.resid"
   ]
  },
  {
   "cell_type": "code",
   "execution_count": 26,
   "metadata": {},
   "outputs": [
    {
     "data": {
      "text/plain": [
       "NormaltestResult(statistic=0.33331205824311627, pvalue=0.8464907294260392)"
      ]
     },
     "execution_count": 26,
     "metadata": {},
     "output_type": "execute_result"
    }
   ],
   "source": [
    "scipy.stats.normaltest(residuals)"
   ]
  },
  {
   "cell_type": "code",
   "execution_count": 28,
   "metadata": {},
   "outputs": [
    {
     "data": {
      "text/plain": [
       "<Axes: ylabel='Density'>"
      ]
     },
     "execution_count": 28,
     "metadata": {},
     "output_type": "execute_result"
    },
    {
     "data": {
      "image/png": "[encoded data removed]",
      "text/plain": [
       "<Figure size 640x480 with 1 Axes>"
      ]
     },
     "metadata": {},
     "output_type": "display_data"
    }
   ],
   "source": [
    "sns.kdeplot(x=residuals)"
   ]
  },
  {
   "attachments": {},
   "cell_type": "markdown",
   "metadata": {},
   "source": [
    "So the residuals are normally distributed. But how about Heteroscedasticity? We can use the Breusch-Pagan test to test for this. The null hypothesis for this is that Homoscedasticity is present. This can be found in statsmodels.stats.api. We need the residuals for this test and the values from the model. "
   ]
  },
  {
   "cell_type": "code",
   "execution_count": 38,
   "metadata": {},
   "outputs": [
    {
     "data": {
      "text/plain": [
       "[('Lagrange multiplier statistic', 161.37961128886135),\n",
       " ('p-value', 9.054462257805264e-36),\n",
       " ('f-value', 78.95337422518467),\n",
       " ('f p-value', 8.844782857366815e-42)]"
      ]
     },
     "execution_count": 38,
     "metadata": {},
     "output_type": "execute_result"
    }
   ],
   "source": [
    "names = ['Lagrange multiplier statistic', 'p-value',\n",
    "        'f-value', 'f p-value']\n",
    "test = het_breuschpagan(residuals, df[['age' , 'years_in_education', 'gender']])\n",
    "lzip(names, test)"
   ]
  },
  {
   "attachments": {},
   "cell_type": "markdown",
   "metadata": {},
   "source": [
    "There is a huge amount of Heteroscedasticity in the data, this is to be expected due to the way the data was faked. We can also test for multiconlinearity in the data using statmodels again"
   ]
  },
  {
   "cell_type": "code",
   "execution_count": 41,
   "metadata": {},
   "outputs": [
    {
     "name": "stdout",
     "output_type": "stream",
     "text": [
      "              feature        VIF\n",
      "0                 age  20.638637\n",
      "1  years_in_education  20.514160\n",
      "2              gender   1.977706\n"
     ]
    }
   ],
   "source": [
    "vif_data = pd.DataFrame()\n",
    "vif_data[\"feature\"] = df[['age' , 'years_in_education', 'gender']].columns\n",
    "vif_data[\"VIF\"] = [variance_inflation_factor(df[['age' , 'years_in_education', 'gender']].values, value)\n",
    "                          for value in range(len(df[['age' , 'years_in_education', 'gender']].columns))]\n",
    "  \n",
    "print(vif_data)"
   ]
  },
  {
   "attachments": {},
   "cell_type": "markdown",
   "metadata": {},
   "source": [
    "Again huge amount of problems due to the way the data was faked. In real life we would want to consider strategies such as robust regression or transforming the variables which is incredibly easy in python. In our case this is unlikely to work again due to how the data was faked but lets try.\n",
    "\n",
    "First lets transform the data to log 10 using numpy"
   ]
  },
  {
   "cell_type": "code",
   "execution_count": 46,
   "metadata": {},
   "outputs": [],
   "source": [
    "df_transformed = np.log10(df[['age' , 'years_in_education', 'questionnaire']])\n",
    "df_transformed['gender'] = df['gender']"
   ]
  },
  {
   "attachments": {},
   "cell_type": "markdown",
   "metadata": {},
   "source": [
    "Then lets run a robust regression with the same tests we did before to see if this solves the problem. This time I am not going to use the formula, so I will need to explictly add the intercept"
   ]
  },
  {
   "cell_type": "code",
   "execution_count": 48,
   "metadata": {},
   "outputs": [],
   "source": [
    "import statsmodels.api as sm\n",
    "\n",
    "exogs = sm.add_constant(df_transformed[['age' , 'years_in_education', 'gender']])\n",
    "rlm_model = sm.RLM(df_transformed['questionnaire'], exogs, M=sm.robust.norms.HuberT())\n",
    "fitted_rlm_model = rlm_model.fit()\n",
    "residulas_from_rlm = fitted_rlm_model.resid\n"
   ]
  },
  {
   "cell_type": "code",
   "execution_count": 49,
   "metadata": {},
   "outputs": [
    {
     "data": {
      "text/plain": [
       "[('Lagrange multiplier statistic', 497.15347464272986),\n",
       " ('p-value', 1.107884922079395e-108),\n",
       " ('f-value', 28934.138512224068),\n",
       " ('f p-value', 0.0)]"
      ]
     },
     "execution_count": 49,
     "metadata": {},
     "output_type": "execute_result"
    }
   ],
   "source": [
    "names = ['Lagrange multiplier statistic', 'p-value',\n",
    "        'f-value', 'f p-value']\n",
    "test = het_breuschpagan(residulas_from_rlm, df_transformed[['age' , 'years_in_education', 'gender']])\n",
    "lzip(names, test)"
   ]
  },
  {
   "cell_type": "code",
   "execution_count": 51,
   "metadata": {},
   "outputs": [
    {
     "name": "stdout",
     "output_type": "stream",
     "text": [
      "              feature         VIF\n",
      "0                 age  156.739393\n",
      "1  years_in_education  156.493787\n",
      "2              gender    1.982859\n"
     ]
    }
   ],
   "source": [
    "vif_data = pd.DataFrame()\n",
    "vif_data[\"feature\"] = df_transformed[['age' , 'years_in_education', 'gender']].columns\n",
    "vif_data[\"VIF\"] = [variance_inflation_factor(df_transformed[['age' , 'years_in_education', 'gender']].values, value)\n",
    "                          for value in range(len(df_transformed[['age' , 'years_in_education', 'gender']].columns))]\n",
    "  \n",
    "print(vif_data)"
   ]
  },
  {
   "attachments": {},
   "cell_type": "markdown",
   "metadata": {},
   "source": [
    "Yikes that made things worse! But this is one way to heal with regression problems and it is fairly easy to do so in python!"
   ]
  }
 ],
 "metadata": {
  "kernelspec": {
   "display_name": "venv",
   "language": "python",
   "name": "python3"
  },
  "language_info": {
   "codemirror_mode": {
    "name": "ipython",
    "version": 3
   },
   "file_extension": ".py",
   "mimetype": "text/x-python",
   "name": "python",
   "nbconvert_exporter": "python",
   "pygments_lexer": "ipython3",
   "version": "3.9.5"
  },
  "orig_nbformat": 4
 },
 "nbformat": 4,
 "nbformat_minor": 2
}
